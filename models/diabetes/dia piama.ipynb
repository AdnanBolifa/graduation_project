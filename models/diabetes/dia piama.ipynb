{
 "cells": [
  {
   "cell_type": "code",
   "execution_count": 1,
   "id": "975fc56a",
   "metadata": {},
   "outputs": [],
   "source": [
    "import pickle\n",
    "import pandas as pd\n",
    "import numpy as np\n",
    "import matplotlib.pyplot as plt\n",
    "import seaborn as sns\n",
    "from sklearn.impute import SimpleImputer\n",
    "from sklearn.model_selection import train_test_split\n",
    "from sklearn.metrics import ConfusionMatrixDisplay , classification_report , accuracy_score\n",
    "from sklearn.pipeline import make_pipeline\n",
    "from sklearn.linear_model import LogisticRegression\n",
    "from sklearn.preprocessing import MinMaxScaler\n",
    "from sklearn.dummy import DummyClassifier\n",
    "from sklearn.ensemble import RandomForestClassifier\n"
   ]
  },
  {
   "cell_type": "code",
   "execution_count": 2,
   "id": "a6425338",
   "metadata": {},
   "outputs": [],
   "source": [
    "df = pd.read_csv('Diabetes .csv')\n"
   ]
  },
  {
   "cell_type": "code",
   "execution_count": 9,
   "id": "62f0a6a2",
   "metadata": {},
   "outputs": [
    {
     "data": {
      "text/html": [
       "<div>\n",
       "<style scoped>\n",
       "    .dataframe tbody tr th:only-of-type {\n",
       "        vertical-align: middle;\n",
       "    }\n",
       "\n",
       "    .dataframe tbody tr th {\n",
       "        vertical-align: top;\n",
       "    }\n",
       "\n",
       "    .dataframe thead th {\n",
       "        text-align: right;\n",
       "    }\n",
       "</style>\n",
       "<table border=\"1\" class=\"dataframe\">\n",
       "  <thead>\n",
       "    <tr style=\"text-align: right;\">\n",
       "      <th></th>\n",
       "      <th>Pregnancies</th>\n",
       "      <th>Glucose</th>\n",
       "      <th>BloodPressure</th>\n",
       "      <th>SkinThickness</th>\n",
       "      <th>Insulin</th>\n",
       "      <th>BMI</th>\n",
       "      <th>DiabetesPedigreeFunction</th>\n",
       "      <th>Age</th>\n",
       "      <th>Outcome</th>\n",
       "    </tr>\n",
       "  </thead>\n",
       "  <tbody>\n",
       "    <tr>\n",
       "      <th>0</th>\n",
       "      <td>6</td>\n",
       "      <td>148</td>\n",
       "      <td>72</td>\n",
       "      <td>35</td>\n",
       "      <td>0</td>\n",
       "      <td>33.6</td>\n",
       "      <td>0.627</td>\n",
       "      <td>50</td>\n",
       "      <td>1</td>\n",
       "    </tr>\n",
       "    <tr>\n",
       "      <th>1</th>\n",
       "      <td>1</td>\n",
       "      <td>85</td>\n",
       "      <td>66</td>\n",
       "      <td>29</td>\n",
       "      <td>0</td>\n",
       "      <td>26.6</td>\n",
       "      <td>0.351</td>\n",
       "      <td>31</td>\n",
       "      <td>0</td>\n",
       "    </tr>\n",
       "    <tr>\n",
       "      <th>2</th>\n",
       "      <td>8</td>\n",
       "      <td>183</td>\n",
       "      <td>64</td>\n",
       "      <td>0</td>\n",
       "      <td>0</td>\n",
       "      <td>23.3</td>\n",
       "      <td>0.672</td>\n",
       "      <td>32</td>\n",
       "      <td>1</td>\n",
       "    </tr>\n",
       "    <tr>\n",
       "      <th>3</th>\n",
       "      <td>1</td>\n",
       "      <td>89</td>\n",
       "      <td>66</td>\n",
       "      <td>23</td>\n",
       "      <td>94</td>\n",
       "      <td>28.1</td>\n",
       "      <td>0.167</td>\n",
       "      <td>21</td>\n",
       "      <td>0</td>\n",
       "    </tr>\n",
       "    <tr>\n",
       "      <th>4</th>\n",
       "      <td>0</td>\n",
       "      <td>137</td>\n",
       "      <td>40</td>\n",
       "      <td>35</td>\n",
       "      <td>168</td>\n",
       "      <td>43.1</td>\n",
       "      <td>2.288</td>\n",
       "      <td>33</td>\n",
       "      <td>1</td>\n",
       "    </tr>\n",
       "  </tbody>\n",
       "</table>\n",
       "</div>"
      ],
      "text/plain": [
       "   Pregnancies  Glucose  BloodPressure  SkinThickness  Insulin   BMI  \\\n",
       "0            6      148             72             35        0  33.6   \n",
       "1            1       85             66             29        0  26.6   \n",
       "2            8      183             64              0        0  23.3   \n",
       "3            1       89             66             23       94  28.1   \n",
       "4            0      137             40             35      168  43.1   \n",
       "\n",
       "   DiabetesPedigreeFunction  Age  Outcome  \n",
       "0                     0.627   50        1  \n",
       "1                     0.351   31        0  \n",
       "2                     0.672   32        1  \n",
       "3                     0.167   21        0  \n",
       "4                     2.288   33        1  "
      ]
     },
     "execution_count": 9,
     "metadata": {},
     "output_type": "execute_result"
    }
   ],
   "source": [
    "df.head()"
   ]
  },
  {
   "cell_type": "code",
   "execution_count": 4,
   "id": "6860aed0",
   "metadata": {},
   "outputs": [
    {
     "name": "stdout",
     "output_type": "stream",
     "text": [
      "X_train shape: (614, 8)\n",
      "y_train shape: (614,)\n",
      "X_test shape: (154, 8)\n",
      "y_test shape: (154,)\n"
     ]
    }
   ],
   "source": [
    "X = df.drop(columns=['Outcome'])\n",
    "target = df['Outcome']\n",
    "\n",
    "X_train , X_test , y_train , y_test = train_test_split(X ,target ,test_size=0.2 , random_state=42 )\n",
    "print(\"X_train shape:\", X_train.shape)\n",
    "print(\"y_train shape:\", y_train.shape)\n",
    "print(\"X_test shape:\", X_test.shape)\n",
    "print(\"y_test shape:\", y_test.shape)"
   ]
  },
  {
   "cell_type": "code",
   "execution_count": 5,
   "id": "5271f115",
   "metadata": {},
   "outputs": [
    {
     "name": "stdout",
     "output_type": "stream",
     "text": [
      "Training accuracy :  0.7541\n",
      "Testing accuracy :  0.7532\n"
     ]
    }
   ],
   "source": [
    "\n",
    "lr_model = make_pipeline(\n",
    "    SimpleImputer(strategy='mean'),\n",
    "    MinMaxScaler(),\n",
    "    LogisticRegression()\n",
    ")\n",
    "\n",
    "# Fit the model on the training data\n",
    "lr_model.fit(X_train, y_train)\n",
    "\n",
    "# Make predictions on the training and testing data\n",
    "y_training_pred = lr_model.predict(X_train)\n",
    "y_testing_pred = lr_model.predict(X_test)\n",
    "\n",
    "# Calculate the training and testing accuracy\n",
    "training_acc = accuracy_score(y_train, y_training_pred)\n",
    "testing_acc = accuracy_score(y_test, y_testing_pred)\n",
    "\n",
    "# Print the results\n",
    "print(f\"Training accuracy : {training_acc: .4f}\")\n",
    "print(f\"Testing accuracy : {testing_acc: .4f}\")"
   ]
  },
  {
   "cell_type": "code",
   "execution_count": 8,
   "id": "68b12656",
   "metadata": {},
   "outputs": [
    {
     "name": "stdout",
     "output_type": "stream",
     "text": [
      "أدخل قيمة الميزة 1: 5\n",
      "أدخل قيمة الميزة 2: 5\n",
      "أدخل قيمة الميزة 3: 5\n",
      "أدخل قيمة الميزة 4: 5\n",
      "أدخل قيمة الميزة 5: 5\n",
      "أدخل قيمة الميزة 6: 5\n",
      "أدخل قيمة الميزة 7: 5\n",
      "أدخل قيمة الميزة 8: 5\n",
      "الشخص غير مصاب بالمرض\n",
      "نسبة الاحتمالية:\n",
      "الشخص مصاب بنسبة 5.08%\n",
      "الشخص غير مصاب بنسبة 94.92%\n"
     ]
    }
   ],
   "source": [
    "# استلام الميزات من المستخدم\n",
    "user_features = []\n",
    "for i in range(8):\n",
    "    feature = input(f\"أدخل قيمة الميزة {i+1}: \")\n",
    "    user_features.append(float(feature))\n",
    "\n",
    "# تحويل الميزات المستخدمة إلى DataFrame\n",
    "user_data = pd.DataFrame([user_features], columns=df.drop(columns=['Outcome']).columns)\n",
    "\n",
    "# التوقع عند استخدام الميزات المحددة\n",
    "prediction = lr_model.predict(user_data)\n",
    "probability =lr_model.predict_proba(user_data)\n",
    "\n",
    "# طباعة النتيجة\n",
    "if prediction[0] == 1:\n",
    "    print(\"الشخص مصاب بالمرض\")\n",
    "else:\n",
    "    print(\"الشخص غير مصاب بالمرض\")\n",
    "\n",
    "print(\"نسبة الاحتمالية:\")\n",
    "print(f\"الشخص مصاب بنسبة {probability[0][1]*100:.2f}%\")\n",
    "print(f\"الشخص غير مصاب بنسبة {probability[0][0]*100:.2f}%\")"
   ]
  },
  {
   "cell_type": "code",
   "execution_count": null,
   "id": "8ae5bb5b",
   "metadata": {},
   "outputs": [],
   "source": []
  }
 ],
 "metadata": {
  "kernelspec": {
   "display_name": "Python 3 (ipykernel)",
   "language": "python",
   "name": "python3"
  },
  "language_info": {
   "codemirror_mode": {
    "name": "ipython",
    "version": 3
   },
   "file_extension": ".py",
   "mimetype": "text/x-python",
   "name": "python",
   "nbconvert_exporter": "python",
   "pygments_lexer": "ipython3",
   "version": "3.11.5"
  }
 },
 "nbformat": 4,
 "nbformat_minor": 5
}
