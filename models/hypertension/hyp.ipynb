{
 "cells": [
  {
   "cell_type": "code",
   "execution_count": 1,
   "id": "975fc56a",
   "metadata": {},
   "outputs": [],
   "source": [
    "import pickle\n",
    "import pandas as pd\n",
    "import numpy as np\n",
    "import matplotlib.pyplot as plt\n",
    "import seaborn as sns\n",
    "from sklearn.impute import SimpleImputer\n",
    "from sklearn.model_selection import train_test_split\n",
    "from sklearn.metrics import ConfusionMatrixDisplay , classification_report , accuracy_score\n",
    "from sklearn.pipeline import make_pipeline\n",
    "from sklearn.linear_model import LogisticRegression\n",
    "from sklearn.preprocessing import MinMaxScaler\n",
    "from sklearn.dummy import DummyClassifier"
   ]
  },
  {
   "cell_type": "code",
   "execution_count": 2,
   "id": "84443e81",
   "metadata": {},
   "outputs": [],
   "source": [
    "df = pd.read_csv('Hypertension-risk-model-main.csv')"
   ]
  },
  {
   "cell_type": "code",
   "execution_count": 3,
   "id": "d6584215",
   "metadata": {},
   "outputs": [
    {
     "data": {
      "text/html": [
       "<div>\n",
       "<style scoped>\n",
       "    .dataframe tbody tr th:only-of-type {\n",
       "        vertical-align: middle;\n",
       "    }\n",
       "\n",
       "    .dataframe tbody tr th {\n",
       "        vertical-align: top;\n",
       "    }\n",
       "\n",
       "    .dataframe thead th {\n",
       "        text-align: right;\n",
       "    }\n",
       "</style>\n",
       "<table border=\"1\" class=\"dataframe\">\n",
       "  <thead>\n",
       "    <tr style=\"text-align: right;\">\n",
       "      <th></th>\n",
       "      <th>male</th>\n",
       "      <th>age</th>\n",
       "      <th>currentSmoker</th>\n",
       "      <th>cigsPerDay</th>\n",
       "      <th>BPMeds</th>\n",
       "      <th>diabetes</th>\n",
       "      <th>totChol</th>\n",
       "      <th>sysBP</th>\n",
       "      <th>diaBP</th>\n",
       "      <th>BMI</th>\n",
       "      <th>heartRate</th>\n",
       "      <th>glucose</th>\n",
       "      <th>Risk</th>\n",
       "    </tr>\n",
       "  </thead>\n",
       "  <tbody>\n",
       "    <tr>\n",
       "      <th>0</th>\n",
       "      <td>1</td>\n",
       "      <td>39</td>\n",
       "      <td>0</td>\n",
       "      <td>0.0</td>\n",
       "      <td>0.0</td>\n",
       "      <td>0</td>\n",
       "      <td>195.0</td>\n",
       "      <td>106.0</td>\n",
       "      <td>70.0</td>\n",
       "      <td>26.97</td>\n",
       "      <td>80.0</td>\n",
       "      <td>77.0</td>\n",
       "      <td>0</td>\n",
       "    </tr>\n",
       "    <tr>\n",
       "      <th>1</th>\n",
       "      <td>0</td>\n",
       "      <td>46</td>\n",
       "      <td>0</td>\n",
       "      <td>0.0</td>\n",
       "      <td>0.0</td>\n",
       "      <td>0</td>\n",
       "      <td>250.0</td>\n",
       "      <td>121.0</td>\n",
       "      <td>81.0</td>\n",
       "      <td>28.73</td>\n",
       "      <td>95.0</td>\n",
       "      <td>76.0</td>\n",
       "      <td>0</td>\n",
       "    </tr>\n",
       "    <tr>\n",
       "      <th>2</th>\n",
       "      <td>1</td>\n",
       "      <td>48</td>\n",
       "      <td>1</td>\n",
       "      <td>20.0</td>\n",
       "      <td>0.0</td>\n",
       "      <td>0</td>\n",
       "      <td>245.0</td>\n",
       "      <td>127.5</td>\n",
       "      <td>80.0</td>\n",
       "      <td>25.34</td>\n",
       "      <td>75.0</td>\n",
       "      <td>70.0</td>\n",
       "      <td>0</td>\n",
       "    </tr>\n",
       "    <tr>\n",
       "      <th>3</th>\n",
       "      <td>0</td>\n",
       "      <td>61</td>\n",
       "      <td>1</td>\n",
       "      <td>30.0</td>\n",
       "      <td>0.0</td>\n",
       "      <td>0</td>\n",
       "      <td>225.0</td>\n",
       "      <td>150.0</td>\n",
       "      <td>95.0</td>\n",
       "      <td>28.58</td>\n",
       "      <td>65.0</td>\n",
       "      <td>103.0</td>\n",
       "      <td>1</td>\n",
       "    </tr>\n",
       "    <tr>\n",
       "      <th>4</th>\n",
       "      <td>0</td>\n",
       "      <td>46</td>\n",
       "      <td>1</td>\n",
       "      <td>23.0</td>\n",
       "      <td>0.0</td>\n",
       "      <td>0</td>\n",
       "      <td>285.0</td>\n",
       "      <td>130.0</td>\n",
       "      <td>84.0</td>\n",
       "      <td>23.10</td>\n",
       "      <td>85.0</td>\n",
       "      <td>85.0</td>\n",
       "      <td>0</td>\n",
       "    </tr>\n",
       "  </tbody>\n",
       "</table>\n",
       "</div>"
      ],
      "text/plain": [
       "   male  age  currentSmoker  cigsPerDay  BPMeds  diabetes  totChol  sysBP  \\\n",
       "0     1   39              0         0.0     0.0         0    195.0  106.0   \n",
       "1     0   46              0         0.0     0.0         0    250.0  121.0   \n",
       "2     1   48              1        20.0     0.0         0    245.0  127.5   \n",
       "3     0   61              1        30.0     0.0         0    225.0  150.0   \n",
       "4     0   46              1        23.0     0.0         0    285.0  130.0   \n",
       "\n",
       "   diaBP    BMI  heartRate  glucose  Risk  \n",
       "0   70.0  26.97       80.0     77.0     0  \n",
       "1   81.0  28.73       95.0     76.0     0  \n",
       "2   80.0  25.34       75.0     70.0     0  \n",
       "3   95.0  28.58       65.0    103.0     1  \n",
       "4   84.0  23.10       85.0     85.0     0  "
      ]
     },
     "execution_count": 3,
     "metadata": {},
     "output_type": "execute_result"
    }
   ],
   "source": [
    "df.head()"
   ]
  },
  {
   "cell_type": "code",
   "execution_count": 4,
   "id": "35488596",
   "metadata": {},
   "outputs": [],
   "source": [
    "df['cigsPerDay'].fillna(value=0.0,inplace=True)"
   ]
  },
  {
   "cell_type": "code",
   "execution_count": 5,
   "id": "6860aed0",
   "metadata": {},
   "outputs": [
    {
     "name": "stdout",
     "output_type": "stream",
     "text": [
      "X_train shape: (3392, 12)\n",
      "y_train shape: (3392,)\n",
      "X_test shape: (848, 12)\n",
      "y_test shape: (848,)\n"
     ]
    }
   ],
   "source": [
    "X = df.drop(columns=['Risk'])\n",
    "target = df['Risk']\n",
    "\n",
    "X_train , X_test , y_train , y_test = train_test_split(X ,target ,test_size=0.2 , random_state=42 )\n",
    "print(\"X_train shape:\", X_train.shape)\n",
    "print(\"y_train shape:\", y_train.shape)\n",
    "print(\"X_test shape:\", X_test.shape)\n",
    "print(\"y_test shape:\", y_test.shape)"
   ]
  },
  {
   "cell_type": "code",
   "execution_count": 7,
   "id": "24d36aa9",
   "metadata": {},
   "outputs": [
    {
     "name": "stdout",
     "output_type": "stream",
     "text": [
      "Training accuracy :  0.8788\n",
      "Testing accuracy :  0.8785\n"
     ]
    }
   ],
   "source": [
    "\n",
    "lr_model = make_pipeline(\n",
    "    SimpleImputer(strategy='mean'),\n",
    "    MinMaxScaler(),\n",
    "    LogisticRegression()\n",
    ")\n",
    "\n",
    "# Fit the model on the training data\n",
    "lr_model.fit(X_train, y_train)\n",
    "\n",
    "# Make predictions on the training and testing data\n",
    "y_training_pred = lr_model.predict(X_train)\n",
    "y_testing_pred = lr_model.predict(X_test)\n",
    "\n",
    "# Calculate the training and testing accuracy\n",
    "training_acc = accuracy_score(y_train, y_training_pred)\n",
    "testing_acc = accuracy_score(y_test, y_testing_pred)\n",
    "\n",
    "# Print the results\n",
    "print(f\"Training accuracy : {training_acc: .4f}\")\n",
    "print(f\"Testing accuracy : {testing_acc: .4f}\")"
   ]
  },
  {
   "cell_type": "code",
   "execution_count": 12,
   "id": "4b0d2fda",
   "metadata": {},
   "outputs": [
    {
     "name": "stdout",
     "output_type": "stream",
     "text": [
      "Training accuracy :  1.0000\n",
      "Testing accuracy :  0.8950\n"
     ]
    }
   ],
   "source": [
    "from sklearn.pipeline import make_pipeline\n",
    "from sklearn.impute import SimpleImputer\n",
    "from sklearn.preprocessing import MinMaxScaler\n",
    "from sklearn.ensemble import RandomForestClassifier\n",
    "from sklearn.metrics import accuracy_score\n",
    "\n",
    "rf_model = make_pipeline(\n",
    "    SimpleImputer(strategy='mean'),\n",
    "    MinMaxScaler(),\n",
    "    RandomForestClassifier()\n",
    ")\n",
    "\n",
    "# Fit the model on the training data\n",
    "rf_model.fit(X_train, y_train)\n",
    "\n",
    "# Make predictions on the training and testing data\n",
    "y_training_pred = rf_model.predict(X_train)\n",
    "y_testing_pred = rf_model.predict(X_test)\n",
    "\n",
    "# Calculate the training and testing accuracy\n",
    "training_acc = accuracy_score(y_train, y_training_pred)\n",
    "testing_acc = accuracy_score(y_test, y_testing_pred)\n",
    "\n",
    "# Print the results\n",
    "print(f\"Training accuracy : {training_acc: .4f}\")\n",
    "print(f\"Testing accuracy : {testing_acc: .4f}\")"
   ]
  },
  {
   "cell_type": "code",
   "execution_count": 14,
   "id": "68b12656",
   "metadata": {},
   "outputs": [
    {
     "name": "stdout",
     "output_type": "stream",
     "text": [
      "أدخل قيمة الميزة 1: 5\n",
      "أدخل قيمة الميزة 2: 5\n",
      "أدخل قيمة الميزة 3: 5\n",
      "أدخل قيمة الميزة 4: 5\n",
      "أدخل قيمة الميزة 5: 5\n",
      "أدخل قيمة الميزة 6: 5\n",
      "أدخل قيمة الميزة 7: 5\n",
      "أدخل قيمة الميزة 8: 5\n",
      "أدخل قيمة الميزة 9: 5\n",
      "أدخل قيمة الميزة 10: 5\n",
      "أدخل قيمة الميزة 11: 5\n",
      "أدخل قيمة الميزة 12: 5\n",
      "الشخص غير مصاب بالمرض\n",
      "نسبة احتمال الإصابة بالمرض: 41.20%\n"
     ]
    }
   ],
   "source": [
    "user_features = []\n",
    "for i in range(12):\n",
    "    feature = input(f\"أدخل قيمة الميزة {i+1}: \")\n",
    "    user_features.append(float(feature))\n",
    "\n",
    "# تحويل الميزات المستخدمة إلى DataFrame\n",
    "user_data = pd.DataFrame([user_features], columns=df.drop(columns=['Risk']).columns)\n",
    "\n",
    "# التوقع عند استخدام الميزات المحددة\n",
    "prediction = LR_model.predict(user_data)\n",
    "\n",
    "# طباعة النتيجة\n",
    "if prediction[0] == 1:\n",
    "    print(\"الشخص مصاب بالمرض\")\n",
    "else:\n",
    "    print(\"الشخص غير مصاب بالمرض\")\n",
    "print(f\"نسبة احتمال الإصابة بالمرض: {LR_model.predict_proba(user_data)[0][1]:.2%}\")"
   ]
  },
  {
   "cell_type": "code",
   "execution_count": null,
   "id": "b99bd3d3",
   "metadata": {},
   "outputs": [],
   "source": []
  }
 ],
 "metadata": {
  "kernelspec": {
   "display_name": "Python 3 (ipykernel)",
   "language": "python",
   "name": "python3"
  },
  "language_info": {
   "codemirror_mode": {
    "name": "ipython",
    "version": 3
   },
   "file_extension": ".py",
   "mimetype": "text/x-python",
   "name": "python",
   "nbconvert_exporter": "python",
   "pygments_lexer": "ipython3",
   "version": "3.11.5"
  }
 },
 "nbformat": 4,
 "nbformat_minor": 5
}
